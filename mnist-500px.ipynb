{
 "cells": [
  {
   "cell_type": "code",
   "execution_count": 1,
   "metadata": {},
   "outputs": [
    {
     "name": "stderr",
     "output_type": "stream",
     "text": [
      "Using TensorFlow backend.\n"
     ]
    }
   ],
   "source": [
    "import keras\n",
    "from keras.datasets import mnist\n",
    "from keras.models import Sequential\n",
    "from keras.layers import Dense, Dropout, Flatten\n",
    "from keras.layers import Conv2D, MaxPooling2D\n",
    "from keras import backend as K\n",
    "from keras.preprocessing.image import ImageDataGenerator\n",
    "\n",
    "\n",
    "import string\n",
    "import random\n",
    "import os\n",
    "import json\n",
    "import numpy as np"
   ]
  },
  {
   "cell_type": "code",
   "execution_count": 2,
   "metadata": {},
   "outputs": [
    {
     "name": "stdout",
     "output_type": "stream",
     "text": [
      "Folder path: ./mnist_models/MRNM\n"
     ]
    }
   ],
   "source": [
    "class ModelConfig():\n",
    "    \"\"\"\n",
    "    This class should contain and any helper\n",
    "    methods for model lifecycle\n",
    "    \n",
    "    input_shape: shape of the input\n",
    "    steps_per_epoch: total steps for 1 epoch\n",
    "    epoch: total number of training cycles of the entire training set\n",
    "    batch_size: chunks of images per iteration to use\n",
    "    \"\"\"\n",
    "    def __init__(self,input_shape,steps_per_epoch=100,batch_size=20,epochs=12,\n",
    "                 num_classes=10,**kwargs):        \n",
    "        self.batch_size=batch_size\n",
    "        self.num_classes=num_classes\n",
    "        self.epochs=epochs  \n",
    "        self.steps_per_epoch=steps_per_epoch\n",
    "        self.input_shape= input_shape\n",
    "        self.folder_path  =self.log_folder_path()\n",
    "        self.create_folder()\n",
    "            \n",
    "    def random_string(self,n=4):\n",
    "        \"\"\"\n",
    "        Generate string for file name.\n",
    "        Default is a 4 letter name\n",
    "        \"\"\"\n",
    "        name = ''.join(\n",
    "            random.choice(\n",
    "                string.ascii_uppercase + string.digits) for _ in range(n))\n",
    "        \n",
    "        return name\n",
    "    \n",
    "    def config_to_json(self):\n",
    "        \"\"\"\n",
    "        Create json to to store in file \n",
    "        \"\"\"\n",
    "        d = dict()\n",
    "        d[\"batch_size\"] = self.batch_size\n",
    "        d[\"num_classes\"] = self.num_classes\n",
    "        d[\"epochs\"] = self.epochs\n",
    "        j = json.dumps(d)\n",
    "        return j\n",
    "    \n",
    "    def log_folder_path(self):\n",
    "        \"\"\"\n",
    "        Generate folder path for loging model\n",
    "        \"\"\"\n",
    "        folder_path = \"./mnist_models/{0}\".format(self.random_string())\n",
    "        print(\"Folder path: {0}\".format(folder_path))\n",
    "        return folder_path\n",
    "    \n",
    "    def create_folder(self):\n",
    "        \"\"\"\n",
    "        Create folder for storing model info\n",
    "        \"\"\"\n",
    "        folder_path =self.folder_path\n",
    "        if not os.path.exists(folder_path):\n",
    "            os.makedirs(folder_path)\n",
    "        file_path = \"{0}/model_config.json\".format(folder_path)\n",
    "        f= open(file_path,\"w\")\n",
    "        model_info=self.config_to_json()\n",
    "        f.write(model_info)\n",
    "        f.close()\n",
    "        \n",
    "\n",
    "class DataSet():\n",
    "    \"\"\"\n",
    "    Class to perform operations on the MNIST data \n",
    "    set\n",
    "    \"\"\"\n",
    "    \n",
    "    def __init__(self,model_config):        \n",
    "        (x_train, y_train), (x_test, y_test) = mnist.load_data()       \n",
    "        self.X_train = x_train\n",
    "        self.Y_train = y_train\n",
    "        \n",
    "        self.X_test=x_test\n",
    "        self.Y_test=y_test\n",
    "        self.MODEL_CONFIG = model_config\n",
    "        \n",
    "        #mem management\n",
    "        del x_train\n",
    "        del y_train\n",
    "        del x_test\n",
    "        del y_test\n",
    "        \n",
    "    def normalize(self,data):\n",
    "        \"\"\"\n",
    "        This function will normalize all values betweem\n",
    "        0 to 1. Assumes array values range from 0-255\n",
    "        \"\"\"\n",
    "        return data/255.0\n",
    "    \n",
    "    def normalize_all_data(self):\n",
    "        x_train = self.normalize(self.X_train)\n",
    "        x_test = self.normalize(self.X_test)\n",
    "        return((x_train,x_test))\n",
    "    \n",
    "    def convert_to_categorical(self): \n",
    "        \"\"\"\n",
    "        Converta categorical classes to 1 hot \n",
    "        encoded vectors\n",
    "        \"\"\"\n",
    "        y_train =  keras.utils.to_categorical(self.Y_train,\n",
    "                                              self.MODEL_CONFIG.num_classes)\n",
    "        y_test =  keras.utils.to_categorical(self.Y_test,\n",
    "                                              self.MODEL_CONFIG.num_classes)\n",
    "        return((y_train,y_test))\n",
    "        \n",
    "    def data_preprocess(self):\n",
    "        x_train,x_test =self.normalize_all_data()\n",
    "        y_train,y_test = self.convert_to_categorical()   \n",
    "        x_train = x_train.reshape(x_train.shape[0], 28, 28, 1)\n",
    "        x_test = x_test.reshape(x_test.shape[0], 28, 28, 1)\n",
    "        return((x_train,y_train),(x_test,y_test))\n",
    "        \n",
    "        \n",
    "_MODELCONFIG = ModelConfig(epochs=1,input_shape=(28,28,1))"
   ]
  },
  {
   "cell_type": "code",
   "execution_count": 3,
   "metadata": {},
   "outputs": [],
   "source": [
    "_dataset=DataSet(_MODELCONFIG)"
   ]
  },
  {
   "cell_type": "code",
   "execution_count": 4,
   "metadata": {},
   "outputs": [],
   "source": [
    "class MNIST:\n",
    "    \"\"\"\n",
    "    Class to build MNIST CNN model\n",
    "    \"\"\"\n",
    "    def __init__(self,data_set):\n",
    "        self.DATA_SET =data_set\n",
    "        self.MODEL_CONFIG=data_set.MODEL_CONFIG\n",
    "        \n",
    "    def build_model(self):\n",
    "        \"\"\"\n",
    "        Build CNN with regularization \n",
    "        \"\"\"\n",
    "        inpt_shape = self.MODEL_CONFIG.input_shape\n",
    "        \n",
    "        model = Sequential()\n",
    "        model.add(\n",
    "            Conv2D(filters=32,\n",
    "                   kernel_size=(3,3),activation='relu',\n",
    "                   input_shape=inpt_shape))\n",
    "        \n",
    "        model.add(Conv2D(64,(3,3),activation='relu'))\n",
    "        model.add(MaxPooling2D(pool_size=(2, 2)))\n",
    "        model.add(Dropout(0.25))\n",
    "        model.add(Flatten())\n",
    "        model.add(Dense(128, activation='relu'))\n",
    "        model.add(Dropout(0.5))\n",
    "        model.add(Dense(self.MODEL_CONFIG.num_classes,\n",
    "                        activation='softmax'))\n",
    "        \n",
    "        return model\n",
    "    \n",
    "            \n",
    "    def run_model(self,print_summary):\n",
    "        (x_train, y_train), (x_test, y_test)= self.DATA_SET.data_preprocess()\n",
    "\n",
    "        model=self.train_model_with_gen(x_train,y_train,x_test,y_test)\n",
    "        if print_summary: print(model.summary())\n",
    "        self.evaluate_score(model,x_test,y_test)\n",
    "        \n",
    "    def train_model_with_gen(self,x_train,y_train,x_test,y_test):\n",
    "        model = self.build_model()\n",
    "        \n",
    "        model.compile(loss=keras.losses.categorical_crossentropy,\n",
    "              optimizer=keras.optimizers.Adadelta(),\n",
    "              metrics=['accuracy'])\n",
    "        \n",
    "        #using image generator to save mem \n",
    "        tr_gen = ImageDataGenerator(rotation_range=8)\n",
    "        test_gen = ImageDataGenerator()\n",
    "        \n",
    "        train_generator = tr_gen.flow(x_train, y_train,\n",
    "                                   self.MODEL_CONFIG.batch_size)\n",
    "        test_generator = test_gen.flow(x_test, y_test, \n",
    "                                       self.MODEL_CONFIG.batch_size)\n",
    "\n",
    "        model.fit_generator(train_generator, \n",
    "                            steps_per_epoch=self.MODEL_CONFIG.steps_per_epoch,\n",
    "                            epochs=self.MODEL_CONFIG.epochs, \n",
    "                            validation_data=test_generator,\n",
    "                            validation_steps=self.MODEL_CONFIG.epochs)\n",
    "        \n",
    "        #save model\n",
    "        model_name = \"{0}/model.h5\".format(self.MODEL_CONFIG.folder_path)\n",
    "        model.save(model_name)\n",
    "        return model\n",
    "        \n",
    "    def evaluate_score(self,model,x_test,y_test):\n",
    "        score = model.evaluate(x_test, y_test, verbose=0)\n",
    "        print('Test loss:', score[0])\n",
    "        print('Test accuracy:', score[1])"
   ]
  },
  {
   "cell_type": "code",
   "execution_count": 5,
   "metadata": {},
   "outputs": [],
   "source": [
    "mnist_model = MNIST(data_set=_dataset)"
   ]
  },
  {
   "cell_type": "code",
   "execution_count": 27,
   "metadata": {
    "scrolled": false
   },
   "outputs": [
    {
     "name": "stdout",
     "output_type": "stream",
     "text": [
      "Epoch 1/1\n",
      "100/100 [==============================] - 6s 58ms/step - loss: 1.0462 - acc: 0.6595 - val_loss: 0.4081 - val_acc: 0.9000\n",
      "_________________________________________________________________\n",
      "Layer (type)                 Output Shape              Param #   \n",
      "=================================================================\n",
      "conv2d_13 (Conv2D)           (None, 26, 26, 32)        320       \n",
      "_________________________________________________________________\n",
      "conv2d_14 (Conv2D)           (None, 24, 24, 64)        18496     \n",
      "_________________________________________________________________\n",
      "max_pooling2d_7 (MaxPooling2 (None, 12, 12, 64)        0         \n",
      "_________________________________________________________________\n",
      "dropout_13 (Dropout)         (None, 12, 12, 64)        0         \n",
      "_________________________________________________________________\n",
      "flatten_7 (Flatten)          (None, 9216)              0         \n",
      "_________________________________________________________________\n",
      "dense_13 (Dense)             (None, 128)               1179776   \n",
      "_________________________________________________________________\n",
      "dropout_14 (Dropout)         (None, 128)               0         \n",
      "_________________________________________________________________\n",
      "dense_14 (Dense)             (None, 10)                1290      \n",
      "=================================================================\n",
      "Total params: 1,199,882\n",
      "Trainable params: 1,199,882\n",
      "Non-trainable params: 0\n",
      "_________________________________________________________________\n",
      "None\n",
      "Test loss: 0.30226237298250197\n",
      "Test accuracy: 0.9116\n"
     ]
    }
   ],
   "source": [
    "mnist_model.run_model(print_summary=True)"
   ]
  },
  {
   "cell_type": "markdown",
   "metadata": {},
   "source": [
    "# Adverserial Examples\n",
    "This code will derive the minimum set of features required to classify a digit 6 using the features of digit 2"
   ]
  },
  {
   "cell_type": "code",
   "execution_count": 6,
   "metadata": {},
   "outputs": [],
   "source": [
    "from keras.models import load_model\n",
    "model_code = \"LN2B\"\n",
    "model_path = \"./mnist_models/{0}/model.h5\".format(model_code)\n",
    "model = load_model(model_path)"
   ]
  },
  {
   "cell_type": "code",
   "execution_count": 7,
   "metadata": {},
   "outputs": [],
   "source": [
    "def get_images_classified_as_n(_class=2):\n",
    "    \"\"\"\n",
    "    Get 2 digit images from test set\n",
    "    \"\"\"\n",
    "    \n",
    "    x_test = _dataset.X_test\n",
    "    y_test = _dataset.Y_test\n",
    "    filter_twos = np.where(y_test ==_class)\n",
    "    x_test= x_test[filter_twos]\n",
    "    x_test = _dataset.normalize(x_test)\n",
    "    x_test = x_test.reshape(x_test.shape[0], 28, 28, 1)\n",
    "    return x_test\n",
    "\n",
    "def correctly_classified_images(model,digit_two_images):\n",
    "    \"\"\"\n",
    "    Gets images that are correctly classified as 2\n",
    "    \"\"\"\n",
    "    prediction = model.predict(digit_two_images)\n",
    "    result = []\n",
    "    for idx,val in enumerate(prediction):\n",
    "        pred = np.argmax(val)\n",
    "        if pred==2:\n",
    "            img = digit_two_images[idx]\n",
    "            result.append(img)\n",
    "            if len(result)==10:\n",
    "                return np.asarray(result)"
   ]
  },
  {
   "cell_type": "code",
   "execution_count": 8,
   "metadata": {},
   "outputs": [],
   "source": [
    "correct_class_imgs = get_images_classified_as_n(2)\n",
    "predicted_imgs= correctly_classified_images(model,correct_class_imgs)"
   ]
  },
  {
   "cell_type": "code",
   "execution_count": 27,
   "metadata": {},
   "outputs": [],
   "source": [
    "from keras import metrics\n",
    "def compute_adveserial_noise(correct_img,model,epsilon=10,wrong_class=6,\n",
    "                 correct_class=2,total_steps=20):\n",
    "    \n",
    "    \"\"\"\n",
    "    Generate adverserial examples \n",
    "    \n",
    "    correct_img: the correct image from the data set\n",
    "    model: mnist CNN model\n",
    "    epsilon: the factor by which noise is increased\n",
    "    wrong_class: this the adveserial class we want the model to predict incorrectly\n",
    "    correct_class: this is the correct class which hte image belongs to\n",
    "    total_steps: max number of iterations\n",
    "    \n",
    "    References:\n",
    "    1. https://github.com/rodgzilla/machine_learning_adversarial_examples/blob/master/Adversarial%20examples%20-%20detailled%20process.ipynb\n",
    "    2. https://github.com/Hvass-Labs/TensorFlow-Tutorials/blob/master/11_Adversarial_Examples.ipynb\n",
    "    \"\"\"\n",
    "    \n",
    "    #init no noise\n",
    "    noise = 0\n",
    "    adv_img = None\n",
    "    for step in range(total_steps):\n",
    "        \n",
    "        #add noise to correct_img\n",
    "        noisy_image = np.float32(correct_img + noise)\n",
    "        \n",
    "        #pixel values may be greater than 255 afer addition\n",
    "        #therefore need to clip\n",
    "        new_img = np.float32(np.clip(noisy_image, 0., 255.))\n",
    "        \n",
    "        #create categorical representation of adveserial class\n",
    "        target=keras.utils.to_categorical(wrong_class,\n",
    "                                          _MODELCONFIG.num_classes)      \n",
    "        target_variable = K.variable(target)\n",
    "        \n",
    "        #compute loss for the wrong class\n",
    "        # https://github.com/rodgzilla/machine_learning_adversarial_examples/blob/master/Adversarial%20examples%20-%20detailled%20process.ipynb\n",
    "        loss = metrics.categorical_crossentropy(model.output, target_variable)\n",
    "        gradients  = K.gradients(loss, model.input)\n",
    "        get_grad_values = K.function([model.input], gradients)\n",
    "        grad_values = get_grad_values([[new_img]])\n",
    "        grad_signs = np.sign(grad_values)\n",
    "\n",
    "        #check the model is predicting the wrong class\n",
    "        new_pred = model.predict([[new_img.reshape((28,28,1))]])                \n",
    "        adv_scr=new_pred[0][wrong_class]\n",
    "        correct_scr =new_pred[0][correct_class]\n",
    "        grad_absmax = np.abs(grad_values).max()\n",
    "        adv_pred = np.argmax(new_pred)\n",
    "#         print(\"Adverserial score: \",adv_scr)\n",
    "#         print(\"Adveserial Prediction score: \",adv_pred)\n",
    "#         print(new_pred)\n",
    "#         print()\n",
    "            \n",
    "        #check if the score is enough \n",
    "        #if it isnt keep adding more noise\n",
    "        if adv_scr <=0.99:\n",
    "            noise -=np.array(grad_signs)[0][0]*epsilon\n",
    "            adv_img = new_img\n",
    "        else:\n",
    "            break\n",
    "        \n",
    "    return noise,adv_img\n",
    "        \n",
    "        \n",
    "    "
   ]
  },
  {
   "cell_type": "code",
   "execution_count": 61,
   "metadata": {
    "scrolled": false
   },
   "outputs": [
    {
     "name": "stdout",
     "output_type": "stream",
     "text": [
      "Image#:  0\n",
      "Image#:  1\n",
      "Image#:  2\n",
      "Image#:  3\n",
      "Image#:  4\n",
      "Image#:  5\n",
      "Image#:  6\n",
      "Image#:  7\n",
      "Image#:  8\n",
      "Image#:  9\n",
      "###Done###\n"
     ]
    }
   ],
   "source": [
    "def genereate_adv_imgs(top10_imgs):\n",
    "    \"\"\"\n",
    "    Generates adveserial examples and the corresponding noise\n",
    "    \"\"\"\n",
    "    adv_img_list = []\n",
    "    delta_img_list = []\n",
    "\n",
    "    for idx,img in enumerate(top10_imgs):\n",
    "        print(\"Image#: \",idx)\n",
    "        noise,adv_img = compute_adveserial_noise(img,model,\n",
    "                                                 wrong_class=6,epsilon=7,\n",
    "                               correct_class=2,total_steps=100)\n",
    "        adv_img_list.append(adv_img)\n",
    "        delta_img_list.append(noise)\n",
    "    print(\"###Done###\")\n",
    "    return adv_img_list,delta_img_list\n",
    "        \n",
    "adv_img,noise = genereate_adv_imgs(predicted_imgs)"
   ]
  },
  {
   "cell_type": "markdown",
   "metadata": {},
   "source": [
    "### Adveserial Images"
   ]
  },
  {
   "cell_type": "code",
   "execution_count": 64,
   "metadata": {
    "scrolled": false
   },
   "outputs": [
    {
     "data": {
      "image/png": "[encoded data removed]",
      "text/plain": [
       "<Figure size 576x576 with 3 Axes>"
      ]
     },
     "metadata": {},
     "output_type": "display_data"
    },
    {
     "data": {
      "image/png": "[encoded data removed]",
      "text/plain": [
       "<Figure size 576x576 with 3 Axes>"
      ]
     },
     "metadata": {},
     "output_type": "display_data"
    },
    {
     "data": {
      "image/png": "[encoded data removed]",
      "text/plain": [
       "<Figure size 576x576 with 3 Axes>"
      ]
     },
     "metadata": {},
     "output_type": "display_data"
    },
    {
     "data": {
      "image/png": "[encoded data removed]",
      "text/plain": [
       "<Figure size 576x576 with 3 Axes>"
      ]
     },
     "metadata": {},
     "output_type": "display_data"
    },
    {
     "data": {
      "image/png": "[encoded data removed]",
      "text/plain": [
       "<Figure size 576x576 with 3 Axes>"
      ]
     },
     "metadata": {},
     "output_type": "display_data"
    },
    {
     "data": {
      "image/png": "[encoded data removed]",
      "text/plain": [
       "<Figure size 576x576 with 3 Axes>"
      ]
     },
     "metadata": {},
     "output_type": "display_data"
    },
    {
     "data": {
      "image/png": "[encoded data removed]",
      "text/plain": [
       "<Figure size 576x576 with 3 Axes>"
      ]
     },
     "metadata": {},
     "output_type": "display_data"
    },
    {
     "data": {
      "image/png": "[encoded data removed]",
      "text/plain": [
       "<Figure size 576x576 with 3 Axes>"
      ]
     },
     "metadata": {},
     "output_type": "display_data"
    },
    {
     "data": {
      "image/png": "[encoded data removed]",
      "text/plain": [
       "<Figure size 576x576 with 3 Axes>"
      ]
     },
     "metadata": {},
     "output_type": "display_data"
    },
    {
     "data": {
      "image/png": "[encoded data removed]",
      "text/plain": [
       "<Figure size 576x576 with 3 Axes>"
      ]
     },
     "metadata": {},
     "output_type": "display_data"
    }
   ],
   "source": [
    "import matplotlib.pyplot as plt\n",
    "\n",
    "\n",
    "##plotting adveserial examples\n",
    "w=10\n",
    "h=10\n",
    "columns = 3\n",
    "rows = 5\n",
    "for i in range(0, 10):\n",
    "    img =correct_class_imgs[i].reshape((28,28))\n",
    "    delta = noise[i].reshape((28,28))\n",
    "    new_img = adv_img[i].reshape((28,28))\n",
    "    fig=plt.figure(figsize=(8, 8))    \n",
    "    fig.add_subplot(3, 3, 1)\n",
    "    \n",
    "    plt.imshow(img)\n",
    "    \n",
    "    fig.add_subplot(3, 3, 2)\n",
    "    plt.imshow(delta)\n",
    "    \n",
    "    fig.add_subplot(3, 3, 3)\n",
    "    plt.imshow(new_img)\n",
    "       \n",
    "plt.savefig(\"adverserial_examples.png\")\n",
    "plt.show()"
   ]
  },
  {
   "cell_type": "code",
   "execution_count": 57,
   "metadata": {},
   "outputs": [],
   "source": []
  },
  {
   "cell_type": "code",
   "execution_count": null,
   "metadata": {},
   "outputs": [],
   "source": []
  }
 ],
 "metadata": {
  "kernelspec": {
   "display_name": "Python 3",
   "language": "python",
   "name": "python3"
  },
  "language_info": {
   "codemirror_mode": {
    "name": "ipython",
    "version": 3
   },
   "file_extension": ".py",
   "mimetype": "text/x-python",
   "name": "python",
   "nbconvert_exporter": "python",
   "pygments_lexer": "ipython3",
   "version": "3.6.5"
  }
 },
 "nbformat": 4,
 "nbformat_minor": 2
}
